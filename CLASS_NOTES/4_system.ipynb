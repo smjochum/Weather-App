{
 "cells": [
  {
   "cell_type": "markdown",
   "metadata": {},
   "source": [
    "Module 4 - System"
   ]
  },
  {
   "cell_type": "code",
   "execution_count": null,
   "metadata": {},
   "outputs": [],
   "source": [
    "import os\n",
    "import glob\n",
    "import shutil\n",
    "import tkinter.filedialog\n",
    "import tkinter as tk\n",
    "import sys"
   ]
  },
  {
   "cell_type": "markdown",
   "metadata": {},
   "source": [
    "1. Check that you don't have a directory called 'python_test', then create the directory.<br>\n",
    "Then go to python_test directory and print your current directory to confirm."
   ]
  },
  {
   "cell_type": "code",
   "execution_count": null,
   "metadata": {},
   "outputs": [],
   "source": []
  },
  {
   "cell_type": "markdown",
   "metadata": {},
   "source": [
    "2. Analyze this code and show the resulting directory hierarchy "
   ]
  },
  {
   "cell_type": "code",
   "execution_count": null,
   "metadata": {},
   "outputs": [],
   "source": [
    "def writeFile(filename, str) :\n",
    "    fh = open(filename, 'a')\n",
    "    fh.write(str)\n",
    "    fh.close()    \n",
    "    \n",
    "\n",
    "os.mkdir('dirA')\n",
    "os.mkdir(os.path.join('dirA','dirB'))\n",
    "os.mkdir('dirC')\n",
    "\n",
    "writeFile(os.path.join('dirA', 'file1.txt'), \"111\")\n",
    "writeFile(os.path.join('dirA','dirB','file2.txt'), \"222\")\n",
    "writeFile(os.path.join('dirC','file3.txt'), \"333\") \n",
    "\n",
    "ps = os.path.join('dirA','dirB','file2.txt')\n",
    "pd = os.path.join('dirA','dirB','file22.txt')\n",
    "os.rename(ps, pd)"
   ]
  },
  {
   "cell_type": "markdown",
   "metadata": {},
   "source": [
    "3. List files in the current directory, then list files starting with 'f' in dirA"
   ]
  },
  {
   "cell_type": "code",
   "execution_count": null,
   "metadata": {},
   "outputs": [],
   "source": []
  },
  {
   "cell_type": "markdown",
   "metadata": {},
   "source": [
    "4. How many files/directories does the following code print?"
   ]
  },
  {
   "cell_type": "code",
   "execution_count": null,
   "metadata": {},
   "outputs": [],
   "source": [
    "p = os.getcwd()\n",
    "def walk() :\n",
    "    for (path, dirlist, filelist) in os.walk(p) :\n",
    "        for d in dirlist :\n",
    "            print(os.path.join(path, d))\n",
    "        for f in filelist :\n",
    "            print(os.path.join(path,f))\n",
    "walk()"
   ]
  },
  {
   "cell_type": "markdown",
   "metadata": {},
   "source": [
    "5. Copy file1.txt in dirA to copy1.txt in dirA"
   ]
  },
  {
   "cell_type": "code",
   "execution_count": null,
   "metadata": {},
   "outputs": [],
   "source": []
  },
  {
   "cell_type": "markdown",
   "metadata": {},
   "source": [
    "6. Add to the code below to present a GUI window for the user to select a directory in the current directory,<br>\n",
    "then present the user with a window to select a file in dirA<br>Print the selected directory and file"
   ]
  },
  {
   "cell_type": "code",
   "execution_count": null,
   "metadata": {},
   "outputs": [],
   "source": [
    "win = tk.Tk()\n",
    "\n",
    "print(\"Working directory:\", d)\n",
    "print(\"File selected is:\", f)\n",
    "win.mainloop()"
   ]
  },
  {
   "cell_type": "code",
   "execution_count": null,
   "metadata": {},
   "outputs": [],
   "source": []
  }
 ],
 "metadata": {
  "kernelspec": {
   "display_name": "Python [conda env:Anaconda3]",
   "language": "python",
   "name": "conda-env-Anaconda3-py"
  },
  "language_info": {
   "codemirror_mode": {
    "name": "ipython",
    "version": 3
   },
   "file_extension": ".py",
   "mimetype": "text/x-python",
   "name": "python",
   "nbconvert_exporter": "python",
   "pygments_lexer": "ipython3",
   "version": "3.6.5"
  }
 },
 "nbformat": 4,
 "nbformat_minor": 2
}
